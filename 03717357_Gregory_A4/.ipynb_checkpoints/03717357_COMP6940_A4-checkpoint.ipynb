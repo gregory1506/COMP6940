{
 "cells": [
  {
   "cell_type": "code",
   "execution_count": 9,
   "metadata": {},
   "outputs": [],
   "source": [
    "import numpy as np"
   ]
  },
  {
   "cell_type": "code",
   "execution_count": 3,
   "metadata": {},
   "outputs": [],
   "source": [
    "corpus = ['Apple Orange Orange Apple','Apple Banana Apple Banana','Banana Apple Banana Banana Banana Apple',\\\n",
    "          'Banana Orange Banana Banana Orange Banana','Banana Apple Banana Banana Orange Banana']"
   ]
  },
  {
   "cell_type": "code",
   "execution_count": 13,
   "metadata": {},
   "outputs": [],
   "source": [
    "def myCountVec(corpus):\n",
    "    bag = set()\n",
    "    word_index = dict()\n",
    "    for line in corpus:\n",
    "        for word in line.split():\n",
    "            if word in bag:\n",
    "                continue\n",
    "            else:\n",
    "                bag.add(word)\n",
    "    list_of_words = sorted(list(bag))\n",
    "    for index,word in enumerate(list_of_words):\n",
    "        word_index[word] = index\n",
    "    vec_of_counts = np.zeros((len(corpus),len(word_index)))\n",
    "    for row,line in enumerate(corpus):\n",
    "        for word in line.split():\n",
    "            col = word_index[word]\n",
    "            vec_of_counts[row][col] += 1\n",
    "    return vec_of_counts"
   ]
  },
  {
   "cell_type": "code",
   "execution_count": 14,
   "metadata": {},
   "outputs": [
    {
     "data": {
      "text/plain": [
       "array([[2., 0., 2.],\n",
       "       [2., 2., 0.],\n",
       "       [2., 4., 0.],\n",
       "       [0., 4., 2.],\n",
       "       [1., 4., 1.]])"
      ]
     },
     "execution_count": 14,
     "metadata": {},
     "output_type": "execute_result"
    }
   ],
   "source": [
    "myCountVec(corpus)"
   ]
  },
  {
   "cell_type": "code",
   "execution_count": null,
   "metadata": {},
   "outputs": [],
   "source": []
  }
 ],
 "metadata": {
  "kernelspec": {
   "display_name": "Python 3",
   "language": "python",
   "name": "python3"
  },
  "language_info": {
   "codemirror_mode": {
    "name": "ipython",
    "version": 3
   },
   "file_extension": ".py",
   "mimetype": "text/x-python",
   "name": "python",
   "nbconvert_exporter": "python",
   "pygments_lexer": "ipython3",
   "version": "3.6.4"
  }
 },
 "nbformat": 4,
 "nbformat_minor": 2
}
