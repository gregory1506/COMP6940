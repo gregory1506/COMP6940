{
 "cells": [
  {
   "cell_type": "code",
   "execution_count": 36,
   "metadata": {},
   "outputs": [],
   "source": [
    "import numpy as np\n",
    "import pandas as pd\n",
    "from collections import OrderedDict\n",
    "import re\n",
    "import seaborn as sns\n",
    "from sklearn.feature_extraction.text import CountVectorizer,TfidfVectorizer\n",
    "import matplotlib.pyplot as plt\n",
    "from sklearn.linear_model import LogisticRegression\n",
    "from sklearn.svm import LinearSVC\n",
    "from sklearn.model_selection import train_test_split\n",
    "from sklearn.metrics import f1_score"
   ]
  },
  {
   "cell_type": "code",
   "execution_count": 2,
   "metadata": {},
   "outputs": [],
   "source": [
    "corpus = ['Apple Orange Orange Apple','Apple Banana Apple Banana','Banana Apple Banana Banana Banana Apple',\\\n",
    "          'Banana Orange Banana Banana Orange Banana','Banana Apple Banana Banana Orange Banana']"
   ]
  },
  {
   "cell_type": "code",
   "execution_count": 3,
   "metadata": {},
   "outputs": [],
   "source": [
    "''' Create a function to vectorize the counts of a list of sentences. Does not ignore case.'''\n",
    "def myCountVec(corpus):\n",
    "    bag = set()  # use a set to figure out how many unique words there are\n",
    "    word_index = dict() # use a dict to store the column index of the word\n",
    "    for line in corpus:\n",
    "        for word in line.split():\n",
    "            if word in bag:\n",
    "                continue\n",
    "            else:\n",
    "                bag.add(word)\n",
    "    list_of_words = sorted(list(bag)) # sort the list of words derived from set\n",
    "    for index,word in enumerate(list_of_words):\n",
    "        word_index[word] = index  # assign index to word\n",
    "    vec_of_counts = np.zeros((len(corpus),len(word_index))) # create dummy matrix with all locations initilised to 0\n",
    "    for row,line in enumerate(corpus):\n",
    "        for word in line.split():\n",
    "            col = word_index[word]\n",
    "            vec_of_counts[row][col] += 1  # populate the matrix, increasing a word count when needed.\n",
    "    return vec_of_counts"
   ]
  },
  {
   "cell_type": "code",
   "execution_count": 4,
   "metadata": {},
   "outputs": [
    {
     "data": {
      "text/plain": [
       "array([[2., 0., 2.],\n",
       "       [2., 2., 0.],\n",
       "       [2., 4., 0.],\n",
       "       [0., 4., 2.],\n",
       "       [1., 4., 1.]])"
      ]
     },
     "execution_count": 4,
     "metadata": {},
     "output_type": "execute_result"
    }
   ],
   "source": [
    "myCountVec(corpus)"
   ]
  },
  {
   "cell_type": "code",
   "execution_count": 6,
   "metadata": {},
   "outputs": [
    {
     "data": {
      "text/html": [
       "<div>\n",
       "<style scoped>\n",
       "    .dataframe tbody tr th:only-of-type {\n",
       "        vertical-align: middle;\n",
       "    }\n",
       "\n",
       "    .dataframe tbody tr th {\n",
       "        vertical-align: top;\n",
       "    }\n",
       "\n",
       "    .dataframe thead th {\n",
       "        text-align: right;\n",
       "    }\n",
       "</style>\n",
       "<table border=\"1\" class=\"dataframe\">\n",
       "  <thead>\n",
       "    <tr style=\"text-align: right;\">\n",
       "      <th></th>\n",
       "      <th>id</th>\n",
       "      <th>playlist</th>\n",
       "      <th>upload_date</th>\n",
       "      <th>title</th>\n",
       "      <th>view_count</th>\n",
       "      <th>average_rating</th>\n",
       "      <th>like_count</th>\n",
       "      <th>dislike_count</th>\n",
       "      <th>subtitles</th>\n",
       "      <th>sentiment</th>\n",
       "    </tr>\n",
       "  </thead>\n",
       "  <tbody>\n",
       "    <tr>\n",
       "      <th>0</th>\n",
       "      <td>-2WTNSujhjk</td>\n",
       "      <td>Donald Trump Speeches &amp; Events</td>\n",
       "      <td>20160220</td>\n",
       "      <td>Live Stream: Donald Trump Victory Rally in Spa...</td>\n",
       "      <td>4057.0</td>\n",
       "      <td>4.259259</td>\n",
       "      <td>44.0</td>\n",
       "      <td>10.0</td>\n",
       "      <td>presidents of the United States mr. go   tr...</td>\n",
       "      <td>1</td>\n",
       "    </tr>\n",
       "    <tr>\n",
       "      <th>1</th>\n",
       "      <td>-64nfy6i58w</td>\n",
       "      <td>Donald Trump Speeches &amp; Events</td>\n",
       "      <td>20161107</td>\n",
       "      <td>LAST RALLY: Donald Trump FINAL CAMPAIGN Rally ...</td>\n",
       "      <td>47276.0</td>\n",
       "      <td>4.358025</td>\n",
       "      <td>952.0</td>\n",
       "      <td>182.0</td>\n",
       "      <td>it's now officially Tuesday November a   di...</td>\n",
       "      <td>1</td>\n",
       "    </tr>\n",
       "    <tr>\n",
       "      <th>2</th>\n",
       "      <td>-7Sp31hTxkU</td>\n",
       "      <td>Donald Trump Speeches &amp; Events</td>\n",
       "      <td>20160423</td>\n",
       "      <td>FULL SPEECH: Donald Trump Rally in Bridgeport,...</td>\n",
       "      <td>19966.0</td>\n",
       "      <td>4.666667</td>\n",
       "      <td>220.0</td>\n",
       "      <td>20.0</td>\n",
       "      <td>you   [Music]   [Music]   [Music]   you   I...</td>\n",
       "      <td>1</td>\n",
       "    </tr>\n",
       "    <tr>\n",
       "      <th>3</th>\n",
       "      <td>-byuyavcNI4</td>\n",
       "      <td>Donald Trump Speeches &amp; Events</td>\n",
       "      <td>20160617</td>\n",
       "      <td>Full Speech: Donald Trump Rally in Houston, Te...</td>\n",
       "      <td>15138.0</td>\n",
       "      <td>4.582491</td>\n",
       "      <td>266.0</td>\n",
       "      <td>31.0</td>\n",
       "      <td>we welcome stars and president   [Music]   ...</td>\n",
       "      <td>1</td>\n",
       "    </tr>\n",
       "    <tr>\n",
       "      <th>4</th>\n",
       "      <td>09BXh-AA72M</td>\n",
       "      <td>Donald Trump Speeches &amp; Events</td>\n",
       "      <td>20161105</td>\n",
       "      <td>Full Speech: Donald Trump Rally in Denver, Col...</td>\n",
       "      <td>8720.0</td>\n",
       "      <td>4.924731</td>\n",
       "      <td>365.0</td>\n",
       "      <td>7.0</td>\n",
       "      <td>you   thank you   [Music]   great people Gr...</td>\n",
       "      <td>1</td>\n",
       "    </tr>\n",
       "  </tbody>\n",
       "</table>\n",
       "</div>"
      ],
      "text/plain": [
       "            id                        playlist  upload_date  \\\n",
       "0  -2WTNSujhjk  Donald Trump Speeches & Events     20160220   \n",
       "1  -64nfy6i58w  Donald Trump Speeches & Events     20161107   \n",
       "2  -7Sp31hTxkU  Donald Trump Speeches & Events     20160423   \n",
       "3  -byuyavcNI4  Donald Trump Speeches & Events     20160617   \n",
       "4  09BXh-AA72M  Donald Trump Speeches & Events     20161105   \n",
       "\n",
       "                                               title  view_count  \\\n",
       "0  Live Stream: Donald Trump Victory Rally in Spa...      4057.0   \n",
       "1  LAST RALLY: Donald Trump FINAL CAMPAIGN Rally ...     47276.0   \n",
       "2  FULL SPEECH: Donald Trump Rally in Bridgeport,...     19966.0   \n",
       "3  Full Speech: Donald Trump Rally in Houston, Te...     15138.0   \n",
       "4  Full Speech: Donald Trump Rally in Denver, Col...      8720.0   \n",
       "\n",
       "   average_rating  like_count  dislike_count  \\\n",
       "0        4.259259        44.0           10.0   \n",
       "1        4.358025       952.0          182.0   \n",
       "2        4.666667       220.0           20.0   \n",
       "3        4.582491       266.0           31.0   \n",
       "4        4.924731       365.0            7.0   \n",
       "\n",
       "                                           subtitles  sentiment  \n",
       "0     presidents of the United States mr. go   tr...          1  \n",
       "1     it's now officially Tuesday November a   di...          1  \n",
       "2     you   [Music]   [Music]   [Music]   you   I...          1  \n",
       "3     we welcome stars and president   [Music]   ...          1  \n",
       "4     you   thank you   [Music]   great people Gr...          1  "
      ]
     },
     "execution_count": 6,
     "metadata": {},
     "output_type": "execute_result"
    }
   ],
   "source": [
    "df = pd.read_csv('MrTrumpSpeeches.csv', sep='~', encoding='latin1')\n",
    "df['sentiment'] = np.where(df['like_count'] > df['dislike_count'], 1, 0)\n",
    "df.head()"
   ]
  },
  {
   "cell_type": "code",
   "execution_count": 7,
   "metadata": {},
   "outputs": [
    {
     "data": {
      "text/plain": [
       "(836, 10)"
      ]
     },
     "execution_count": 7,
     "metadata": {},
     "output_type": "execute_result"
    }
   ],
   "source": [
    "# lets check some characteristics of the datframe\n",
    "df.shape"
   ]
  },
  {
   "cell_type": "code",
   "execution_count": 8,
   "metadata": {},
   "outputs": [
    {
     "data": {
      "text/html": [
       "<div>\n",
       "<style scoped>\n",
       "    .dataframe tbody tr th:only-of-type {\n",
       "        vertical-align: middle;\n",
       "    }\n",
       "\n",
       "    .dataframe tbody tr th {\n",
       "        vertical-align: top;\n",
       "    }\n",
       "\n",
       "    .dataframe thead th {\n",
       "        text-align: right;\n",
       "    }\n",
       "</style>\n",
       "<table border=\"1\" class=\"dataframe\">\n",
       "  <thead>\n",
       "    <tr style=\"text-align: right;\">\n",
       "      <th></th>\n",
       "      <th>upload_date</th>\n",
       "      <th>view_count</th>\n",
       "      <th>average_rating</th>\n",
       "      <th>like_count</th>\n",
       "      <th>dislike_count</th>\n",
       "      <th>sentiment</th>\n",
       "    </tr>\n",
       "  </thead>\n",
       "  <tbody>\n",
       "    <tr>\n",
       "      <th>count</th>\n",
       "      <td>8.360000e+02</td>\n",
       "      <td>8.360000e+02</td>\n",
       "      <td>836.000000</td>\n",
       "      <td>836.000000</td>\n",
       "      <td>836.000000</td>\n",
       "      <td>836.000000</td>\n",
       "    </tr>\n",
       "    <tr>\n",
       "      <th>mean</th>\n",
       "      <td>2.016526e+07</td>\n",
       "      <td>2.478265e+04</td>\n",
       "      <td>4.345376</td>\n",
       "      <td>288.478469</td>\n",
       "      <td>56.348086</td>\n",
       "      <td>0.912679</td>\n",
       "    </tr>\n",
       "    <tr>\n",
       "      <th>std</th>\n",
       "      <td>4.783116e+03</td>\n",
       "      <td>6.020921e+04</td>\n",
       "      <td>0.702294</td>\n",
       "      <td>498.063763</td>\n",
       "      <td>188.722867</td>\n",
       "      <td>0.282473</td>\n",
       "    </tr>\n",
       "    <tr>\n",
       "      <th>min</th>\n",
       "      <td>2.016020e+07</td>\n",
       "      <td>7.100000e+01</td>\n",
       "      <td>1.347826</td>\n",
       "      <td>2.000000</td>\n",
       "      <td>0.000000</td>\n",
       "      <td>0.000000</td>\n",
       "    </tr>\n",
       "    <tr>\n",
       "      <th>25%</th>\n",
       "      <td>2.016081e+07</td>\n",
       "      <td>1.788000e+03</td>\n",
       "      <td>4.263935</td>\n",
       "      <td>29.000000</td>\n",
       "      <td>4.000000</td>\n",
       "      <td>1.000000</td>\n",
       "    </tr>\n",
       "    <tr>\n",
       "      <th>50%</th>\n",
       "      <td>2.016110e+07</td>\n",
       "      <td>8.775500e+03</td>\n",
       "      <td>4.589107</td>\n",
       "      <td>122.000000</td>\n",
       "      <td>19.000000</td>\n",
       "      <td>1.000000</td>\n",
       "    </tr>\n",
       "    <tr>\n",
       "      <th>75%</th>\n",
       "      <td>2.017031e+07</td>\n",
       "      <td>2.270900e+04</td>\n",
       "      <td>4.782065</td>\n",
       "      <td>358.250000</td>\n",
       "      <td>47.000000</td>\n",
       "      <td>1.000000</td>\n",
       "    </tr>\n",
       "    <tr>\n",
       "      <th>max</th>\n",
       "      <td>2.017080e+07</td>\n",
       "      <td>1.013054e+06</td>\n",
       "      <td>5.000000</td>\n",
       "      <td>6143.000000</td>\n",
       "      <td>3544.000000</td>\n",
       "      <td>1.000000</td>\n",
       "    </tr>\n",
       "  </tbody>\n",
       "</table>\n",
       "</div>"
      ],
      "text/plain": [
       "        upload_date    view_count  average_rating   like_count  dislike_count  \\\n",
       "count  8.360000e+02  8.360000e+02      836.000000   836.000000     836.000000   \n",
       "mean   2.016526e+07  2.478265e+04        4.345376   288.478469      56.348086   \n",
       "std    4.783116e+03  6.020921e+04        0.702294   498.063763     188.722867   \n",
       "min    2.016020e+07  7.100000e+01        1.347826     2.000000       0.000000   \n",
       "25%    2.016081e+07  1.788000e+03        4.263935    29.000000       4.000000   \n",
       "50%    2.016110e+07  8.775500e+03        4.589107   122.000000      19.000000   \n",
       "75%    2.017031e+07  2.270900e+04        4.782065   358.250000      47.000000   \n",
       "max    2.017080e+07  1.013054e+06        5.000000  6143.000000    3544.000000   \n",
       "\n",
       "        sentiment  \n",
       "count  836.000000  \n",
       "mean     0.912679  \n",
       "std      0.282473  \n",
       "min      0.000000  \n",
       "25%      1.000000  \n",
       "50%      1.000000  \n",
       "75%      1.000000  \n",
       "max      1.000000  "
      ]
     },
     "execution_count": 8,
     "metadata": {},
     "output_type": "execute_result"
    }
   ],
   "source": [
    "# ok so 836 rows by 10 columns. Lets check the numeric columns for issues\n",
    "df.describe()"
   ]
  },
  {
   "cell_type": "code",
   "execution_count": 9,
   "metadata": {},
   "outputs": [
    {
     "name": "stdout",
     "output_type": "stream",
     "text": [
      "count             836\n",
      "unique            836\n",
      "top       qi6UCC_L0WU\n",
      "freq                1\n",
      "Name: id, dtype: object\n",
      "count                                                   836\n",
      "unique                                                    5\n",
      "top       Donald Trump Rally Speech Events Press Confere...\n",
      "freq                                                    369\n",
      "Name: playlist, dtype: object\n",
      "count                                                   836\n",
      "unique                                                  834\n",
      "top       WATCH: President Donald Trump Press Conference...\n",
      "freq                                                      2\n",
      "Name: title, dtype: object\n",
      "count                                                   836\n",
      "unique                                                  836\n",
      "top          my fellow Americans it's an exciting   time...\n",
      "freq                                                      1\n",
      "Name: subtitles, dtype: object\n"
     ]
    }
   ],
   "source": [
    "# ok so far so good. Lets check the non numeric columns\n",
    "for col in ['id','playlist','title','subtitles']:\n",
    "    print(df[col].describe())"
   ]
  },
  {
   "cell_type": "code",
   "execution_count": 10,
   "metadata": {},
   "outputs": [
    {
     "data": {
      "text/plain": [
       "id                False\n",
       "playlist          False\n",
       "upload_date       False\n",
       "title             False\n",
       "view_count        False\n",
       "average_rating    False\n",
       "like_count        False\n",
       "dislike_count     False\n",
       "subtitles         False\n",
       "sentiment         False\n",
       "dtype: bool"
      ]
     },
     "execution_count": 10,
     "metadata": {},
     "output_type": "execute_result"
    }
   ],
   "source": [
    "# so looks like we have all the data. Lets check for missing data and nans\n",
    "df.isnull().any()"
   ]
  },
  {
   "cell_type": "code",
   "execution_count": 31,
   "metadata": {},
   "outputs": [],
   "source": [
    "# so there are some genral punctuation marks that should be removed since they dont add anything to the context.\n",
    "# Some word are enclosed inside [] indicating environment and not really contributing to the sentiment anaylysis\n",
    "def cleaningFunc(line):\n",
    "    line = re.sub('[\\/\\+\\-,:.\\'\\$*%\\&]','',line) # remove puctuation marks etc.\n",
    "    line = line.lower() # convert everthing to lowercase\n",
    "    words = line.split() # split into words\n",
    "    newwords = []\n",
    "    for word in words:\n",
    "        if \"[\" in word: # skip words enclosed in brackets\n",
    "            continue\n",
    "        word = word.strip(' ') # remove any trailing or leading spaces\n",
    "        newwords.append(word)\n",
    "    return \" \".join(newwords) # return sentence with word seperated by a single space"
   ]
  },
  {
   "cell_type": "code",
   "execution_count": 32,
   "metadata": {},
   "outputs": [
    {
     "name": "stdout",
     "output_type": "stream",
     "text": [
      "Count matrix shape : (836, 23623)\n",
      "Tfidf matrix shape : (836, 23620)\n"
     ]
    },
    {
     "data": {
      "text/html": [
       "<div>\n",
       "<style scoped>\n",
       "    .dataframe tbody tr th:only-of-type {\n",
       "        vertical-align: middle;\n",
       "    }\n",
       "\n",
       "    .dataframe tbody tr th {\n",
       "        vertical-align: top;\n",
       "    }\n",
       "\n",
       "    .dataframe thead th {\n",
       "        text-align: right;\n",
       "    }\n",
       "</style>\n",
       "<table border=\"1\" class=\"dataframe\">\n",
       "  <thead>\n",
       "    <tr style=\"text-align: right;\">\n",
       "      <th></th>\n",
       "      <th>id</th>\n",
       "      <th>playlist</th>\n",
       "      <th>upload_date</th>\n",
       "      <th>title</th>\n",
       "      <th>view_count</th>\n",
       "      <th>average_rating</th>\n",
       "      <th>like_count</th>\n",
       "      <th>dislike_count</th>\n",
       "      <th>subtitles</th>\n",
       "      <th>sentiment</th>\n",
       "      <th>subtitle_clean</th>\n",
       "    </tr>\n",
       "  </thead>\n",
       "  <tbody>\n",
       "    <tr>\n",
       "      <th>0</th>\n",
       "      <td>-2WTNSujhjk</td>\n",
       "      <td>Donald Trump Speeches &amp; Events</td>\n",
       "      <td>20160220</td>\n",
       "      <td>Live Stream: Donald Trump Victory Rally in Spa...</td>\n",
       "      <td>4057.0</td>\n",
       "      <td>4.259259</td>\n",
       "      <td>44.0</td>\n",
       "      <td>10.0</td>\n",
       "      <td>presidents of the United States mr. go   tr...</td>\n",
       "      <td>1</td>\n",
       "      <td>presidents of the united states mr go trapp fa...</td>\n",
       "    </tr>\n",
       "    <tr>\n",
       "      <th>1</th>\n",
       "      <td>-64nfy6i58w</td>\n",
       "      <td>Donald Trump Speeches &amp; Events</td>\n",
       "      <td>20161107</td>\n",
       "      <td>LAST RALLY: Donald Trump FINAL CAMPAIGN Rally ...</td>\n",
       "      <td>47276.0</td>\n",
       "      <td>4.358025</td>\n",
       "      <td>952.0</td>\n",
       "      <td>182.0</td>\n",
       "      <td>it's now officially Tuesday November a   di...</td>\n",
       "      <td>1</td>\n",
       "      <td>its now officially tuesday november a did you ...</td>\n",
       "    </tr>\n",
       "    <tr>\n",
       "      <th>2</th>\n",
       "      <td>-7Sp31hTxkU</td>\n",
       "      <td>Donald Trump Speeches &amp; Events</td>\n",
       "      <td>20160423</td>\n",
       "      <td>FULL SPEECH: Donald Trump Rally in Bridgeport,...</td>\n",
       "      <td>19966.0</td>\n",
       "      <td>4.666667</td>\n",
       "      <td>220.0</td>\n",
       "      <td>20.0</td>\n",
       "      <td>you   [Music]   [Music]   [Music]   you   I...</td>\n",
       "      <td>1</td>\n",
       "      <td>you you i you the greatness of our country as ...</td>\n",
       "    </tr>\n",
       "    <tr>\n",
       "      <th>3</th>\n",
       "      <td>-byuyavcNI4</td>\n",
       "      <td>Donald Trump Speeches &amp; Events</td>\n",
       "      <td>20160617</td>\n",
       "      <td>Full Speech: Donald Trump Rally in Houston, Te...</td>\n",
       "      <td>15138.0</td>\n",
       "      <td>4.582491</td>\n",
       "      <td>266.0</td>\n",
       "      <td>31.0</td>\n",
       "      <td>we welcome stars and president   [Music]   ...</td>\n",
       "      <td>1</td>\n",
       "      <td>we welcome stars and president all over the pl...</td>\n",
       "    </tr>\n",
       "    <tr>\n",
       "      <th>4</th>\n",
       "      <td>09BXh-AA72M</td>\n",
       "      <td>Donald Trump Speeches &amp; Events</td>\n",
       "      <td>20161105</td>\n",
       "      <td>Full Speech: Donald Trump Rally in Denver, Col...</td>\n",
       "      <td>8720.0</td>\n",
       "      <td>4.924731</td>\n",
       "      <td>365.0</td>\n",
       "      <td>7.0</td>\n",
       "      <td>you   thank you   [Music]   great people Gr...</td>\n",
       "      <td>1</td>\n",
       "      <td>you thank you great people granna before in th...</td>\n",
       "    </tr>\n",
       "  </tbody>\n",
       "</table>\n",
       "</div>"
      ],
      "text/plain": [
       "            id                        playlist  upload_date  \\\n",
       "0  -2WTNSujhjk  Donald Trump Speeches & Events     20160220   \n",
       "1  -64nfy6i58w  Donald Trump Speeches & Events     20161107   \n",
       "2  -7Sp31hTxkU  Donald Trump Speeches & Events     20160423   \n",
       "3  -byuyavcNI4  Donald Trump Speeches & Events     20160617   \n",
       "4  09BXh-AA72M  Donald Trump Speeches & Events     20161105   \n",
       "\n",
       "                                               title  view_count  \\\n",
       "0  Live Stream: Donald Trump Victory Rally in Spa...      4057.0   \n",
       "1  LAST RALLY: Donald Trump FINAL CAMPAIGN Rally ...     47276.0   \n",
       "2  FULL SPEECH: Donald Trump Rally in Bridgeport,...     19966.0   \n",
       "3  Full Speech: Donald Trump Rally in Houston, Te...     15138.0   \n",
       "4  Full Speech: Donald Trump Rally in Denver, Col...      8720.0   \n",
       "\n",
       "   average_rating  like_count  dislike_count  \\\n",
       "0        4.259259        44.0           10.0   \n",
       "1        4.358025       952.0          182.0   \n",
       "2        4.666667       220.0           20.0   \n",
       "3        4.582491       266.0           31.0   \n",
       "4        4.924731       365.0            7.0   \n",
       "\n",
       "                                           subtitles  sentiment  \\\n",
       "0     presidents of the United States mr. go   tr...          1   \n",
       "1     it's now officially Tuesday November a   di...          1   \n",
       "2     you   [Music]   [Music]   [Music]   you   I...          1   \n",
       "3     we welcome stars and president   [Music]   ...          1   \n",
       "4     you   thank you   [Music]   great people Gr...          1   \n",
       "\n",
       "                                      subtitle_clean  \n",
       "0  presidents of the united states mr go trapp fa...  \n",
       "1  its now officially tuesday november a did you ...  \n",
       "2  you you i you the greatness of our country as ...  \n",
       "3  we welcome stars and president all over the pl...  \n",
       "4  you thank you great people granna before in th...  "
      ]
     },
     "execution_count": 32,
     "metadata": {},
     "output_type": "execute_result"
    }
   ],
   "source": [
    "df['subtitle_clean'] = df['subtitles'].apply(lambda x : cleaningFunc(x))\n",
    "cvecs = CountVectorizer(stop_words='english')\n",
    "Xcv = cvecs.fit_transform(df['subtitle_clean'].values)\n",
    "print(\"Count matrix shape :\", Xcv.shape)\n",
    "tfvecs = TfidfVectorizer(max_df=0.8,stop_words='english') # only keep words that are less than 80% repeated in document\n",
    "Xtf = tfvecs.fit_transform(df['subtitle_clean'].values)\n",
    "print(\"Tfidf matrix shape :\", Xtf.shape)\n",
    "df.head()"
   ]
  },
  {
   "cell_type": "code",
   "execution_count": null,
   "metadata": {},
   "outputs": [],
   "source": []
  },
  {
   "cell_type": "code",
   "execution_count": 75,
   "metadata": {},
   "outputs": [
    {
     "name": "stdout",
     "output_type": "stream",
     "text": [
      "F1 score is : 0.9426751592356688\n"
     ]
    }
   ],
   "source": [
    "X_train,X_test,y_train,y_test = train_test_split(Xcv,df['sentiment'],test_size=0.2,random_state=0)\n",
    "logistic = LogisticRegression()\n",
    "logistic.fit(X_train,y_train)\n",
    "y_pred = logistic.predict(X_test)\n",
    "print(\"F1 score is : {}\".format(f1_score(y_test,y_pred)))"
   ]
  },
  {
   "cell_type": "code",
   "execution_count": 76,
   "metadata": {},
   "outputs": [
    {
     "name": "stdout",
     "output_type": "stream",
     "text": [
      "F1 score is : 0.9597523219814241\n"
     ]
    }
   ],
   "source": [
    "X2_train,X2_test,y2_train,y2_test = train_test_split(Xtf,df['sentiment'],test_size=0.2,random_state = 0)\n",
    "logistic2 = LogisticRegression()\n",
    "logistic2.fit(X2_train,y2_train)\n",
    "y2_pred = logistic2.predict(X2_test)\n",
    "print(\"F1 score is : {}\".format(f1_score(y2_test,y2_pred)))"
   ]
  },
  {
   "cell_type": "code",
   "execution_count": 77,
   "metadata": {},
   "outputs": [],
   "source": [
    "tfvecsngram = TfidfVectorizer(max_df=0.8,stop_words='english',ngram_range=(1,3)) # only keep words that are less than 80% repeated in document\n",
    "Xtfng = tfvecs.fit_transform(df['subtitle_clean'].values)"
   ]
  },
  {
   "cell_type": "code",
   "execution_count": 78,
   "metadata": {},
   "outputs": [
    {
     "name": "stdout",
     "output_type": "stream",
     "text": [
      "F1 score is : 0.9597523219814241\n"
     ]
    }
   ],
   "source": [
    "X3_train,X3_test,y3_train,y3_test = train_test_split(Xtfng,df['sentiment'],test_size=0.2,random_state = 0)\n",
    "logistic3 = LogisticRegression()\n",
    "logistic3.fit(X3_train,y3_train)\n",
    "y3_pred = logistic3.predict(X3_test)\n",
    "print(\"F1 score is : {}\".format(f1_score(y3_test,y3_pred)))"
   ]
  },
  {
   "cell_type": "code",
   "execution_count": 81,
   "metadata": {},
   "outputs": [
    {
     "name": "stdout",
     "output_type": "stream",
     "text": [
      "F1 score is : 0.9290322580645162\n"
     ]
    }
   ],
   "source": [
    "supvec = LinearSVC()\n",
    "supvec.fit(X_train,y_train)\n",
    "y4_pred = supvec.predict(X_test)\n",
    "print(\"F1 score is : {}\".format(f1_score(y_test,y4_pred)))"
   ]
  },
  {
   "cell_type": "code",
   "execution_count": 82,
   "metadata": {},
   "outputs": [
    {
     "name": "stdout",
     "output_type": "stream",
     "text": [
      "F1 score is : 0.9597523219814241\n"
     ]
    }
   ],
   "source": [
    "supvec2 = LinearSVC()\n",
    "supvec2.fit(X2_train,y2_train)\n",
    "y5_pred = supvec2.predict(X2_test)\n",
    "print(\"F1 score is : {}\".format(f1_score(y2_test,y5_pred)))"
   ]
  },
  {
   "cell_type": "code",
   "execution_count": 83,
   "metadata": {},
   "outputs": [
    {
     "name": "stdout",
     "output_type": "stream",
     "text": [
      "F1 score is : 0.9597523219814241\n"
     ]
    }
   ],
   "source": [
    "supvec3 = LinearSVC()\n",
    "supvec3.fit(X3_train,y3_train)\n",
    "y6_pred = supvec3.predict(X3_test)\n",
    "print(\"F1 score is : {}\".format(f1_score(y3_test,y6_pred)))"
   ]
  },
  {
   "cell_type": "code",
   "execution_count": null,
   "metadata": {},
   "outputs": [],
   "source": []
  }
 ],
 "metadata": {
  "kernelspec": {
   "display_name": "Python 3",
   "language": "python",
   "name": "python3"
  },
  "language_info": {
   "codemirror_mode": {
    "name": "ipython",
    "version": 3
   },
   "file_extension": ".py",
   "mimetype": "text/x-python",
   "name": "python",
   "nbconvert_exporter": "python",
   "pygments_lexer": "ipython3",
   "version": "3.6.4"
  }
 },
 "nbformat": 4,
 "nbformat_minor": 2
}
