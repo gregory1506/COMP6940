{
 "cells": [
  {
   "cell_type": "markdown",
   "metadata": {},
   "source": [
    "03717357 Gregory Ollivierre COMP6040 Assignment2 Task A & B\n",
    "\n",
    "Apologies in advance for the semingly random imports below. \n",
    "\n",
    "Depending on how you installed pyspark, you may need to enable the os.environ variables and/or install findspark.\n"
   ]
  },
  {
   "cell_type": "code",
   "execution_count": 3,
   "metadata": {},
   "outputs": [
    {
     "ename": "ModuleNotFoundError",
     "evalue": "No module named 'pyspark'",
     "output_type": "error",
     "traceback": [
      "\u001b[1;31m---------------------------------------------------------------------------\u001b[0m",
      "\u001b[1;31mModuleNotFoundError\u001b[0m                       Traceback (most recent call last)",
      "\u001b[1;32m<ipython-input-3-9cd68e6c1a5a>\u001b[0m in \u001b[0;36m<module>\u001b[1;34m()\u001b[0m\n\u001b[0;32m      7\u001b[0m \u001b[1;31m# spark_dir = home+'/spark-2.3.0-bin-hadoop2.7/'\u001b[0m\u001b[1;33m\u001b[0m\u001b[1;33m\u001b[0m\u001b[0m\n\u001b[0;32m      8\u001b[0m \u001b[1;31m# findspark.init(spark_dir)\u001b[0m\u001b[1;33m\u001b[0m\u001b[1;33m\u001b[0m\u001b[0m\n\u001b[1;32m----> 9\u001b[1;33m \u001b[1;32mimport\u001b[0m \u001b[0mpyspark\u001b[0m\u001b[1;33m\u001b[0m\u001b[0m\n\u001b[0m\u001b[0;32m     10\u001b[0m \u001b[1;32mfrom\u001b[0m \u001b[0mpyspark\u001b[0m\u001b[1;33m.\u001b[0m\u001b[0msql\u001b[0m \u001b[1;32mimport\u001b[0m \u001b[0mSparkSession\u001b[0m\u001b[1;33m\u001b[0m\u001b[0m\n\u001b[0;32m     11\u001b[0m \u001b[1;32mfrom\u001b[0m \u001b[0mpyspark\u001b[0m\u001b[1;33m.\u001b[0m\u001b[0msql\u001b[0m \u001b[1;32mimport\u001b[0m \u001b[0mRow\u001b[0m\u001b[1;33m\u001b[0m\u001b[0m\n",
      "\u001b[1;31mModuleNotFoundError\u001b[0m: No module named 'pyspark'"
     ]
    }
   ],
   "source": [
    "# from pathlib import Path\n",
    "# home = str(Path.home())\n",
    "# import os\n",
    "# os.environ['PYSPARK_SUBMIT_ARGS'] = \"--master local[2] pyspark-shell\"\n",
    "# os.environ['JAVA_HOME'] = home+\"/jdk1.8.0_161/\"\n",
    "# import findspark\n",
    "# spark_dir = home+'/spark-2.3.0-bin-hadoop2.7/'\n",
    "# findspark.init(spark_dir)\n",
    "import pyspark\n",
    "from pyspark.sql import SparkSession\n",
    "from pyspark.sql import Row\n",
    "from pyspark.sql.functions import *"
   ]
  },
  {
   "cell_type": "code",
   "execution_count": 218,
   "metadata": {},
   "outputs": [
    {
     "data": {
      "text/plain": [
       "[('s', 2),\n",
       " ('i', 1),\n",
       " ('y', 3),\n",
       " ('T', 1),\n",
       " ('j', 1),\n",
       " ('o', 5),\n",
       " ('c', 1),\n",
       " ('f', 2),\n",
       " ('q', 1),\n",
       " ('p', 3),\n",
       " ('l', 1),\n",
       " ('x', 3),\n",
       " ('a', 4),\n",
       " ('r', 3),\n",
       " ('e', 5),\n",
       " ('k', 1),\n",
       " ('b', 1),\n",
       " ('n', 2),\n",
       " ('h', 4),\n",
       " ('m', 1),\n",
       " ('t', 2),\n",
       " ('d', 2),\n",
       " ('u', 2),\n",
       " ('v', 2),\n",
       " ('w', 2),\n",
       " ('g', 1)]"
      ]
     },
     "execution_count": 218,
     "metadata": {},
     "output_type": "execute_result"
    }
   ],
   "source": [
    "#A.1Convert the following sentence into a python tuple list of letters and the frequency of which each letter appears in the current word.\n",
    "#Ignore all non-alpha numeric characters.\n",
    "sentence = \"The quick brown fox jumps over the laxy dog and the fox was very happy\"\n",
    "# I treated 'T' and 't' as two seperate chars since they are different. Alternatively sentence.tolower()\n",
    "# could be used\n",
    "samp_tup_list = [(x,sentence.count(x)) for x in set(sentence.replace(\" \",''))]\n",
    "samp_tup_list"
   ]
  },
  {
   "cell_type": "code",
   "execution_count": 219,
   "metadata": {},
   "outputs": [],
   "source": [
    "#A.2 create pyspark contect\n",
    "spark = SparkSession.builder \\\n",
    "   .master(\"local\") \\\n",
    "   .appName(\"Linear Regression Model\") \\\n",
    "   .config(\"spark.executor.memory\", \"1gb\") \\\n",
    "   .getOrCreate()\n",
    "sc = spark.sparkContext"
   ]
  },
  {
   "cell_type": "code",
   "execution_count": 220,
   "metadata": {},
   "outputs": [
    {
     "data": {
      "text/plain": [
       "('s', 2)"
      ]
     },
     "execution_count": 220,
     "metadata": {},
     "output_type": "execute_result"
    }
   ],
   "source": [
    "#A.3 convert list of tuples to rdd\n",
    "rdd = sc.parallelize(samp_tup_list)\n",
    "rdd.first()"
   ]
  },
  {
   "cell_type": "code",
   "execution_count": 221,
   "metadata": {},
   "outputs": [
    {
     "data": {
      "text/plain": [
       "[('s', 2),\n",
       " ('i', 1),\n",
       " ('y', 3),\n",
       " ('T', 1),\n",
       " ('j', 1),\n",
       " ('o', 5),\n",
       " ('c', 1),\n",
       " ('f', 2),\n",
       " ('q', 1),\n",
       " ('p', 3),\n",
       " ('l', 1),\n",
       " ('x', 3),\n",
       " ('a', 4),\n",
       " ('r', 3),\n",
       " ('e', 5),\n",
       " ('k', 1),\n",
       " ('b', 1),\n",
       " ('n', 2),\n",
       " ('h', 4),\n",
       " ('m', 1),\n",
       " ('t', 2),\n",
       " ('d', 2),\n",
       " ('u', 2),\n",
       " ('v', 2),\n",
       " ('w', 2),\n",
       " ('g', 1)]"
      ]
     },
     "execution_count": 221,
     "metadata": {},
     "output_type": "execute_result"
    }
   ],
   "source": [
    "#A.4 display letter count\n",
    "rdd.collect()"
   ]
  },
  {
   "cell_type": "code",
   "execution_count": 222,
   "metadata": {},
   "outputs": [
    {
     "data": {
      "text/plain": [
       "[('s', [1, 1]),\n",
       " ('i', [1]),\n",
       " ('y', [1, 1, 1]),\n",
       " ('T', [1]),\n",
       " ('j', [1]),\n",
       " ('o', [1, 1, 1, 1, 1]),\n",
       " ('c', [1]),\n",
       " ('f', [1, 1]),\n",
       " ('q', [1]),\n",
       " ('p', [1, 2]),\n",
       " ('l', [1]),\n",
       " ('x', [1, 1, 1]),\n",
       " ('a', [1, 1, 1, 1]),\n",
       " ('r', [1, 1, 1]),\n",
       " ('e', [1, 1, 1, 1, 1]),\n",
       " ('k', [1]),\n",
       " ('b', [1]),\n",
       " ('n', [1, 1]),\n",
       " ('h', [1, 1, 1, 1]),\n",
       " ('m', [1]),\n",
       " ('t', [1, 1]),\n",
       " ('d', [1, 1]),\n",
       " ('u', [1, 1]),\n",
       " ('v', [1, 1]),\n",
       " ('w', [1, 1]),\n",
       " ('g', [1])]"
      ]
     },
     "execution_count": 222,
     "metadata": {},
     "output_type": "execute_result"
    }
   ],
   "source": [
    "#A.5 display the letter and number of times they appear in each word in the sentence\n",
    "rdd.map(lambda x : (x[0],[y.count(x[0]) for y in sentence.split() if x[0] in y])).collect()"
   ]
  },
  {
   "cell_type": "code",
   "execution_count": 223,
   "metadata": {},
   "outputs": [],
   "source": [
    "#B.1 create new pyspark contect\n",
    "spark2 = SparkSession.builder \\\n",
    "   .master(\"local\") \\\n",
    "   .appName(\"Linear Regression Model\") \\\n",
    "   .config(\"spark.executor.memory\", \"1gb\") \\\n",
    "   .getOrCreate()\n",
    "sc2 = spark2.sparkContext"
   ]
  },
  {
   "cell_type": "code",
   "execution_count": 224,
   "metadata": {},
   "outputs": [
    {
     "data": {
      "text/plain": [
       "[',id,name,username',\n",
       " '0,AVpe7AsMilAPnD_xQ78G,Kindle Paperwhite,Cristina M',\n",
       " '1,AVpe7AsMilAPnD_xQ78G,Kindle Paperwhite,Ricky',\n",
       " '2,AVpe7AsMilAPnD_xQ78G,Kindle Paperwhite,Tedd Gardiner',\n",
       " '3,AVpe7AsMilAPnD_xQ78G,Kindle Paperwhite,Dougal']"
      ]
     },
     "execution_count": 224,
     "metadata": {},
     "output_type": "execute_result"
    }
   ],
   "source": [
    "#B.2lets open the csv and save to rdd\n",
    "rdd2 = sc2.textFile('amazon_reviews.csv')\n",
    "rdd2.take(5)"
   ]
  },
  {
   "cell_type": "code",
   "execution_count": 225,
   "metadata": {},
   "outputs": [
    {
     "data": {
      "text/plain": [
       "[['0', 'AVpe7AsMilAPnD_xQ78G', 'Kindle Paperwhite', 'Cristina M'],\n",
       " ['1', 'AVpe7AsMilAPnD_xQ78G', 'Kindle Paperwhite', 'Ricky'],\n",
       " ['2', 'AVpe7AsMilAPnD_xQ78G', 'Kindle Paperwhite', 'Tedd Gardiner'],\n",
       " ['3', 'AVpe7AsMilAPnD_xQ78G', 'Kindle Paperwhite', 'Dougal'],\n",
       " ['4', 'AVpe7AsMilAPnD_xQ78G', 'Kindle Paperwhite', 'Miljan David Tanic']]"
      ]
     },
     "execution_count": 225,
     "metadata": {},
     "output_type": "execute_result"
    }
   ],
   "source": [
    "#B.3 looks like comma seperated data. Lets split by ',' and remove first line since we add schema later\n",
    "rdd3 = rdd2.map(lambda line: line.split(','))\n",
    "rdd3 = rdd3.filter(lambda line : line[0] != '')\n",
    "rdd3.take(5)"
   ]
  },
  {
   "cell_type": "code",
   "execution_count": 226,
   "metadata": {},
   "outputs": [
    {
     "name": "stdout",
     "output_type": "stream",
     "text": [
      "+--------------------+-----------------+--------------------+\n",
      "|                 idn|          product|            username|\n",
      "+--------------------+-----------------+--------------------+\n",
      "|AVpe7AsMilAPnD_xQ78G|Kindle Paperwhite|          Cristina M|\n",
      "|AVpe7AsMilAPnD_xQ78G|Kindle Paperwhite|               Ricky|\n",
      "|AVpe7AsMilAPnD_xQ78G|Kindle Paperwhite|       Tedd Gardiner|\n",
      "|AVpe7AsMilAPnD_xQ78G|Kindle Paperwhite|              Dougal|\n",
      "|AVpe7AsMilAPnD_xQ78G|Kindle Paperwhite|  Miljan David Tanic|\n",
      "|AVpe7AsMilAPnD_xQ78G|Kindle Paperwhite|          Kelvin Law|\n",
      "|AVpe7AsMilAPnD_xQ78G|Kindle Paperwhite|               Ricky|\n",
      "|AVpe7AsMilAPnD_xQ78G|Kindle Paperwhite|             Bandler|\n",
      "|AVpe7AsMilAPnD_xQ78G|Kindle Paperwhite|          Cristina M|\n",
      "|AVpe7AsMilAPnD_xQ78G|Kindle Paperwhite|       Tedd Gardiner|\n",
      "|AVpe7AsMilAPnD_xQ78G|Kindle Paperwhite|     Miguel Martinez|\n",
      "|AVpe7AsMilAPnD_xQ78G|Kindle Paperwhite|   Magnus Brattemark|\n",
      "|AVpe7AsMilAPnD_xQ78G|Kindle Paperwhite|       Tedd Gardiner|\n",
      "|AVpe7AsMilAPnD_xQ78G|Kindle Paperwhite|  Janet Matthews Jan|\n",
      "|AVpe7AsMilAPnD_xQ78G|Kindle Paperwhite|John Kat's the br...|\n",
      "|AVpe7AsMilAPnD_xQ78G|Kindle Paperwhite|              samira|\n",
      "|AVpe7AsMilAPnD_xQ78G|Kindle Paperwhite|        Louis simard|\n",
      "|AVpe7AsMilAPnD_xQ78G|Kindle Paperwhite|              JanetC|\n",
      "|AVpe7AsMilAPnD_xQ78G|Kindle Paperwhite|            Shepherd|\n",
      "|AVpe7AsMilAPnD_xQ78G|Kindle Paperwhite|              Brenda|\n",
      "+--------------------+-----------------+--------------------+\n",
      "only showing top 20 rows\n",
      "\n"
     ]
    }
   ],
   "source": [
    "#B.3 create dataframe with schema (index,idn,product,username)\n",
    "df = rdd3.map(lambda line: Row(index=line[0],idn=line[1],product=line[2],username=line[3])).toDF()\n",
    "df = df.drop('index') # drop index since its prob not required\n",
    "df.show()"
   ]
  },
  {
   "cell_type": "code",
   "execution_count": 227,
   "metadata": {},
   "outputs": [
    {
     "data": {
      "text/plain": [
       "[Row(product='Amazon Tap - Alexa-Enabled Portable Bluetooth Speaker', count=542),\n",
       " Row(product='Amazon Fire TV', count=166),\n",
       " Row(product='Amazon Premium Headphones', count=133),\n",
       " Row(product='Fire HD 6 Tablet', count=87),\n",
       " Row(product='\"Kindle Fire HDX 7\"\"\"', count=53),\n",
       " Row(product='\"Kindle Fire HDX 8.9\"\"\"', count=43),\n",
       " Row(product='\"Kindle Fire HD 7\"\"\"', count=41),\n",
       " Row(product='Kindle Paperwhite', count=39),\n",
       " Row(product='Certified Refurbished Amazon Fire TV (Previous Generation - 1st)', count=38),\n",
       " Row(product='Kindle Keyboard', count=32),\n",
       " Row(product='All-New Amazon Fire 7 Tablet Case (7th Generation', count=27),\n",
       " Row(product='Kindle', count=20),\n",
       " Row(product='Amazon 5W USB Official OEM Charger and Power Adapter for Fire Tablets and Kindle eReaders', count=19),\n",
       " Row(product='All-New Amazon Fire HD 8 Tablet Case (7th Generation', count=18),\n",
       " Row(product='Replacement Remote for Amazon Fire TV Stick', count=17),\n",
       " Row(product='All-New Amazon Kid-Proof Case for Amazon Fire 7 Tablet (7th Generation', count=13),\n",
       " Row(product='Echo Dot (2nd Generation) - Black', count=13),\n",
       " Row(product='Amazon Kindle Oasis Premium Leather Battery Cover - Walnut', count=12),\n",
       " Row(product='Moshi Anti-Glare No Bubble Screen Protector for the Fire Phone', count=12),\n",
       " Row(product='Alexa Voice Remote for Amazon Fire TV and Fire TV Stick', count=12)]"
      ]
     },
     "execution_count": 227,
     "metadata": {},
     "output_type": "execute_result"
    }
   ],
   "source": [
    "#B.4 display top 20 bought products\n",
    "df.groupby('product').count().sort('count',ascending=False).take(20)"
   ]
  },
  {
   "cell_type": "code",
   "execution_count": 228,
   "metadata": {},
   "outputs": [
    {
     "data": {
      "text/plain": [
       "[Row(username='A. Younan', count(username)=59, collect_set(product)=['Amazon Premium Headphones']),\n",
       " Row(username='William Hardin', count(username)=58, collect_set(product)=['Amazon Fire TV', 'Fire HD 6 Tablet', 'Certified Refurbished Amazon Fire TV (Previous Generation - 1st)']),\n",
       " Row(username='Andrew', count(username)=43, collect_set(product)=['Amazon Premium Headphones']),\n",
       " Row(username='Victor L.', count(username)=30, collect_set(product)=['Amazon Premium Headphones']),\n",
       " Row(username='Mike W.', count(username)=29, collect_set(product)=['Fire HD 6 Tablet']),\n",
       " Row(username='NF', count(username)=29, collect_set(product)=['\"Kindle Fire HDX 7\"\"\"', '\"Kindle Fire HD 7\"\"\"']),\n",
       " Row(username='Earthling1984', count(username)=28, collect_set(product)=['Fire HD 6 Tablet']),\n",
       " Row(username='Amazon Reviewer', count(username)=27, collect_set(product)=['\"Kindle Fire HDX 7\"\"\"', '\"Kindle Fire HDX 8.9\"\"\"']),\n",
       " Row(username='Mandy', count(username)=26, collect_set(product)=['Amazon Fire TV', 'Certified Refurbished Amazon Fire TV (Previous Generation - 1st)']),\n",
       " Row(username='Amazon Customer', count(username)=22, collect_set(product)=['Amazon Fire TV', 'All-New Amazon Kid-Proof Case for Amazon Fire 7 Tablet (7th Generation', 'All-New Fire HD 8 Kids Edition Tablet', 'Replacement Remote for Amazon Fire TV Stick', 'Certified Refurbished Fire HD 10 Tablet', 'All-New Fire HD 8 Tablet with Alexa', '\"Kindle Fire HDX 8.9\"\"\"', '\"Kindle Fire HD 7\"\"\"', 'Certified Refurbished Kindle E-reader - Black', 'All-New Amazon Fire 7 Tablet Case (7th Generation', 'All-New Fire 7 Kids Edition Tablet', 'Kindle for Kids Bundle with the latest Kindle E-reader', 'Amazon 5W USB Official OEM Charger and Power Adapter for Fire Tablets and Kindle eReaders', 'Moshi Anti-Glare No Bubble Screen Protector for the Fire Phone', 'Certified Refurbished Echo Dot (2nd Generation) - Black', 'Alexa Voice Remote for Amazon Fire TV and Fire TV Stick']),\n",
       " Row(username='Dallas', count(username)=20, collect_set(product)=['Amazon Fire TV', 'Certified Refurbished Amazon Fire TV (Previous Generation - 1st)']),\n",
       " Row(username='Gregory P. Baker', count(username)=19, collect_set(product)=['Amazon Fire TV', 'Certified Refurbished Amazon Fire TV (Previous Generation - 1st)']),\n",
       " Row(username='Michael Gallagher', count(username)=17, collect_set(product)=['Certified Refurbished Kindle E-reader', '\"Kindle Fire HDX 7\"\"\"', 'Fire HD 7 Tablet', 'Fire HDX 8.9 Tablet', 'Kindle']),\n",
       " Row(username='B. Tarbuck', count(username)=16, collect_set(product)=['\"Kindle Fire HDX 8.9\"\"\"']),\n",
       " Row(username='J. Chambers', count(username)=13, collect_set(product)=['Certified Refurbished Kindle Paperwhite E-reader - Black', 'Kindle Paperwhite 3G', 'Kindle Voyage E-reader', 'All-New Amazon Fire HD 8 Tablet Case (7th Generation', 'Kindle Oasis E-reader with Leather Charging Cover - Walnut', 'Kindle Paperwhite E-reader - Black', 'Certified Refurbished Kindle Voyage E-reader with Special Offers', 'Kindle Paperwhite']),\n",
       " Row(username='MarkM', count(username)=10, collect_set(product)=['\"Kindle Fire HD 7\"\"\"']),\n",
       " Row(username='D. Miyao', count(username)=10, collect_set(product)=['Amazon Echo Dot Case (fits Echo Dot 2nd Generation only) - Saddle Tan Leather', 'Amazon Echo Dot Case (fits Echo Dot 2nd Generation only) - Merlot Leather', 'Amazon Echo Dot Case (fits Echo Dot 2nd Generation only) - Charcoal Fabric', 'Amazon Echo Dot Case (fits Echo Dot 2nd Generation only) - Sandstone Fabric', 'Amazon Echo Dot Case (fits Echo Dot 2nd Generation only) - Indigo Fabric', 'Amazon Echo Dot Case (fits Echo Dot 2nd Generation only) - Midnight Leather']),\n",
       " Row(username='\"Things I Love Like', count(username)=9, collect_set(product)=['\"Kindle Fire HDX 8.9\"\"\"']),\n",
       " Row(username='Judy Schechter', count(username)=8, collect_set(product)=['\"Kindle Fire HD 7\"\"\"']),\n",
       " Row(username='Ron Cronovich', count(username)=7, collect_set(product)=['Kindle Keyboard'])]"
      ]
     },
     "execution_count": 228,
     "metadata": {},
     "output_type": "execute_result"
    }
   ],
   "source": [
    "#B.5 display top 20 users and what they bought\n",
    "df.groupby('username').agg(count('username'),collect_set('product'))\\\n",
    "                      .sort('count(username)',ascending=False).take(20)"
   ]
  },
  {
   "cell_type": "code",
   "execution_count": 229,
   "metadata": {},
   "outputs": [
    {
     "data": {
      "text/plain": [
       "[('Kindle Paperwhite', 'Cristina M'),\n",
       " ('Kindle Paperwhite', 'Ricky'),\n",
       " ('Kindle Paperwhite', 'Tedd Gardiner'),\n",
       " ('Kindle Paperwhite', 'Dougal'),\n",
       " ('Kindle Paperwhite', 'Miljan David Tanic')]"
      ]
     },
     "execution_count": 229,
     "metadata": {},
     "output_type": "execute_result"
    }
   ],
   "source": [
    "#B.6 Create a RDD of tuples from the dataframe from question 3 with only 2 columns ‘product’ and ‘username’ in that order.\n",
    "rdd4 = df.select('product','username').rdd.map(tuple)\n",
    "rdd4.take(5)"
   ]
  },
  {
   "cell_type": "code",
   "execution_count": 230,
   "metadata": {},
   "outputs": [
    {
     "data": {
      "text/plain": [
       "[('Amazon Tap - Alexa-Enabled Portable Bluetooth Speaker', 542),\n",
       " ('Amazon Fire TV', 166),\n",
       " ('Amazon Premium Headphones', 133),\n",
       " ('Fire HD 6 Tablet', 87),\n",
       " ('\"Kindle Fire HDX 7\"\"\"', 53),\n",
       " ('\"Kindle Fire HDX 8.9\"\"\"', 43),\n",
       " ('\"Kindle Fire HD 7\"\"\"', 41),\n",
       " ('Kindle Paperwhite', 39),\n",
       " ('Certified Refurbished Amazon Fire TV (Previous Generation - 1st)', 38),\n",
       " ('Kindle Keyboard', 32),\n",
       " ('All-New Amazon Fire 7 Tablet Case (7th Generation', 27),\n",
       " ('Kindle', 20),\n",
       " ('Amazon 5W USB Official OEM Charger and Power Adapter for Fire Tablets and Kindle eReaders',\n",
       "  19),\n",
       " ('All-New Amazon Fire HD 8 Tablet Case (7th Generation', 18),\n",
       " ('Replacement Remote for Amazon Fire TV Stick', 17),\n",
       " ('All-New Amazon Kid-Proof Case for Amazon Fire 7 Tablet (7th Generation',\n",
       "  13),\n",
       " ('Echo Dot (2nd Generation) - Black', 13),\n",
       " ('Alexa Voice Remote for Amazon Fire TV and Fire TV Stick', 12),\n",
       " ('All-New Amazon Kid-Proof Case for Amazon Fire HD 8 Tablet (7th Generation',\n",
       "  12),\n",
       " ('Moshi Anti-Glare No Bubble Screen Protector for the Fire Phone', 12)]"
      ]
     },
     "execution_count": 230,
     "metadata": {},
     "output_type": "execute_result"
    }
   ],
   "source": [
    "#B.7 Using methods from PySpark’s RDD object e.g. groupByKey, map, reduceByKey, derive the top 20 products.\n",
    "rdd4.groupByKey().map(lambda x: (x[0],len(x[1]))).sortBy(lambda x: x[1],False).take(20)"
   ]
  },
  {
   "cell_type": "code",
   "execution_count": 231,
   "metadata": {},
   "outputs": [
    {
     "data": {
      "text/plain": [
       "[('Cristina M', 'Kindle Paperwhite'),\n",
       " ('Ricky', 'Kindle Paperwhite'),\n",
       " ('Tedd Gardiner', 'Kindle Paperwhite'),\n",
       " ('Dougal', 'Kindle Paperwhite'),\n",
       " ('Miljan David Tanic', 'Kindle Paperwhite')]"
      ]
     },
     "execution_count": 231,
     "metadata": {},
     "output_type": "execute_result"
    }
   ],
   "source": [
    "#B.8 Create a RDD of tuples from the dataframe from question 3 with only 2 columns 'username’ and ‘product’ in that order.\n",
    "rdd5 = df.select('username','product').rdd.map(tuple)\n",
    "rdd5.take(5)"
   ]
  },
  {
   "cell_type": "code",
   "execution_count": 232,
   "metadata": {},
   "outputs": [
    {
     "data": {
      "text/plain": [
       "[('A. Younan', {'Amazon Premium Headphones': 59}, 59),\n",
       " ('William Hardin',\n",
       "  {'Amazon Fire TV': 16,\n",
       "   'Certified Refurbished Amazon Fire TV (Previous Generation - 1st)': 12,\n",
       "   'Fire HD 6 Tablet': 30},\n",
       "  58),\n",
       " ('Andrew', {'Amazon Premium Headphones': 43}, 43),\n",
       " ('Victor L.', {'Amazon Premium Headphones': 30}, 30),\n",
       " ('NF', {'\"Kindle Fire HD 7\"\"\"': 14, '\"Kindle Fire HDX 7\"\"\"': 15}, 29),\n",
       " ('Mike W.', {'Fire HD 6 Tablet': 29}, 29),\n",
       " ('Earthling1984', {'Fire HD 6 Tablet': 28}, 28),\n",
       " ('Amazon Reviewer',\n",
       "  {'\"Kindle Fire HDX 7\"\"\"': 13, '\"Kindle Fire HDX 8.9\"\"\"': 14},\n",
       "  27),\n",
       " ('Mandy',\n",
       "  {'Amazon Fire TV': 16,\n",
       "   'Certified Refurbished Amazon Fire TV (Previous Generation - 1st)': 10},\n",
       "  26),\n",
       " ('Amazon Customer',\n",
       "  {'\"Kindle Fire HD 7\"\"\"': 1,\n",
       "   '\"Kindle Fire HDX 8.9\"\"\"': 1,\n",
       "   'Alexa Voice Remote for Amazon Fire TV and Fire TV Stick': 3,\n",
       "   'All-New Amazon Fire 7 Tablet Case (7th Generation': 2,\n",
       "   'All-New Amazon Kid-Proof Case for Amazon Fire 7 Tablet (7th Generation': 2,\n",
       "   'All-New Fire 7 Kids Edition Tablet': 1,\n",
       "   'All-New Fire HD 8 Kids Edition Tablet': 1,\n",
       "   'All-New Fire HD 8 Tablet with Alexa': 1,\n",
       "   'Amazon 5W USB Official OEM Charger and Power Adapter for Fire Tablets and Kindle eReaders': 1,\n",
       "   'Amazon Fire TV': 3,\n",
       "   'Certified Refurbished Echo Dot (2nd Generation) - Black': 1,\n",
       "   'Certified Refurbished Fire HD 10 Tablet': 1,\n",
       "   'Certified Refurbished Kindle E-reader - Black': 1,\n",
       "   'Kindle for Kids Bundle with the latest Kindle E-reader': 1,\n",
       "   'Moshi Anti-Glare No Bubble Screen Protector for the Fire Phone': 1,\n",
       "   'Replacement Remote for Amazon Fire TV Stick': 1},\n",
       "  22)]"
      ]
     },
     "execution_count": 232,
     "metadata": {},
     "output_type": "execute_result"
    }
   ],
   "source": [
    "#B.9 Using methods from PySparks’s RDD object, produce the top 10 customers who purchased the most items.\n",
    "#The top 10 list must show the usernames and a list of all the items each person bought. \n",
    "#Each item should have an associated quantity value representing the amount of the item which was\n",
    "#purchased by the customer.\n",
    "\n",
    "rdd5.groupByKey()\\\n",
    "    .map(lambda x: (x[0],dict([(y,list(x[1]).count(y)) for y in list(x[1])]),len(x[1])))\\\n",
    "    .sortBy(lambda x: x[2],False)\\\n",
    "    .take(10)"
   ]
  },
  {
   "cell_type": "code",
   "execution_count": null,
   "metadata": {},
   "outputs": [],
   "source": []
  }
 ],
 "metadata": {
  "kernelspec": {
   "display_name": "Python 3",
   "language": "python",
   "name": "python3"
  },
  "language_info": {
   "codemirror_mode": {
    "name": "ipython",
    "version": 3
   },
   "file_extension": ".py",
   "mimetype": "text/x-python",
   "name": "python",
   "nbconvert_exporter": "python",
   "pygments_lexer": "ipython3",
   "version": "3.6.4"
  }
 },
 "nbformat": 4,
 "nbformat_minor": 2
}
